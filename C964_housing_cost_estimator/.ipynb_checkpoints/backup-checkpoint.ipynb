{
 "cells": [
  {
   "cell_type": "markdown",
   "metadata": {},
   "source": [
    "# This is the testing document to find the prediction model\n"
   ]
  },
  {
   "cell_type": "markdown",
   "metadata": {},
   "source": [
    "Import the libraries and data:"
   ]
  },
  {
   "cell_type": "code",
   "execution_count": 1,
   "metadata": {},
   "outputs": [
    {
     "data": {
      "text/plain": [
       "Index(['Suburb', 'Address', 'Rooms', 'Type', 'Price', 'Method', 'SellerG',\n",
       "       'Date', 'Distance', 'Postcode', 'Bedroom2', 'Bathroom', 'Car',\n",
       "       'Landsize', 'BuildingArea', 'YearBuilt', 'CouncilArea', 'Lattitude',\n",
       "       'Longtitude', 'Regionname', 'Propertycount'],\n",
       "      dtype='object')"
      ]
     },
     "execution_count": 1,
     "metadata": {},
     "output_type": "execute_result"
    }
   ],
   "source": [
    "# libraries\n",
    "import matplotlib.pyplot as plt\n",
    "import numpy as np\n",
    "import pandas as pd\n",
    "import csv\n",
    "# data\n",
    "data_path = '../C964_housing_cost_estimator/data/melb_data.csv'\n",
    "realty_data = pd.read_csv(data_path)\n",
    "realty_data.columns\n"
   ]
  },
  {
   "cell_type": "markdown",
   "metadata": {},
   "source": [
    "Clean missing values:"
   ]
  },
  {
   "cell_type": "code",
   "execution_count": 2,
   "metadata": {},
   "outputs": [
    {
     "name": "stdout",
     "output_type": "stream",
     "text": [
      "realty data head: \n",
      " 1    1035000.0\n",
      "2    1465000.0\n",
      "4    1600000.0\n",
      "6    1876000.0\n",
      "7    1636000.0\n",
      "Name: Price, dtype: float64\n"
     ]
    }
   ],
   "source": [
    "realty_data = realty_data.dropna(axis=0)\n",
    "print('realty data head: \\n',(realty_data.head())['Price'])"
   ]
  },
  {
   "cell_type": "markdown",
   "metadata": {},
   "source": [
    "Select the target to predict and features: "
   ]
  },
  {
   "cell_type": "code",
   "execution_count": 3,
   "metadata": {},
   "outputs": [
    {
     "data": {
      "text/html": [
       "<div>\n",
       "<style scoped>\n",
       "    .dataframe tbody tr th:only-of-type {\n",
       "        vertical-align: middle;\n",
       "    }\n",
       "\n",
       "    .dataframe tbody tr th {\n",
       "        vertical-align: top;\n",
       "    }\n",
       "\n",
       "    .dataframe thead th {\n",
       "        text-align: right;\n",
       "    }\n",
       "</style>\n",
       "<table border=\"1\" class=\"dataframe\">\n",
       "  <thead>\n",
       "    <tr style=\"text-align: right;\">\n",
       "      <th></th>\n",
       "      <th>Rooms</th>\n",
       "      <th>Distance</th>\n",
       "      <th>BuildingArea</th>\n",
       "      <th>Car</th>\n",
       "    </tr>\n",
       "  </thead>\n",
       "  <tbody>\n",
       "    <tr>\n",
       "      <th>count</th>\n",
       "      <td>6196.000000</td>\n",
       "      <td>6196.000000</td>\n",
       "      <td>6196.000000</td>\n",
       "      <td>6196.000000</td>\n",
       "    </tr>\n",
       "    <tr>\n",
       "      <th>mean</th>\n",
       "      <td>2.931407</td>\n",
       "      <td>9.751097</td>\n",
       "      <td>141.568645</td>\n",
       "      <td>1.573596</td>\n",
       "    </tr>\n",
       "    <tr>\n",
       "      <th>std</th>\n",
       "      <td>0.971079</td>\n",
       "      <td>5.612065</td>\n",
       "      <td>90.834824</td>\n",
       "      <td>0.929947</td>\n",
       "    </tr>\n",
       "    <tr>\n",
       "      <th>min</th>\n",
       "      <td>1.000000</td>\n",
       "      <td>0.000000</td>\n",
       "      <td>0.000000</td>\n",
       "      <td>0.000000</td>\n",
       "    </tr>\n",
       "    <tr>\n",
       "      <th>25%</th>\n",
       "      <td>2.000000</td>\n",
       "      <td>5.900000</td>\n",
       "      <td>91.000000</td>\n",
       "      <td>1.000000</td>\n",
       "    </tr>\n",
       "    <tr>\n",
       "      <th>50%</th>\n",
       "      <td>3.000000</td>\n",
       "      <td>9.000000</td>\n",
       "      <td>124.000000</td>\n",
       "      <td>1.000000</td>\n",
       "    </tr>\n",
       "    <tr>\n",
       "      <th>75%</th>\n",
       "      <td>4.000000</td>\n",
       "      <td>12.400000</td>\n",
       "      <td>170.000000</td>\n",
       "      <td>2.000000</td>\n",
       "    </tr>\n",
       "    <tr>\n",
       "      <th>max</th>\n",
       "      <td>8.000000</td>\n",
       "      <td>47.400000</td>\n",
       "      <td>3112.000000</td>\n",
       "      <td>10.000000</td>\n",
       "    </tr>\n",
       "  </tbody>\n",
       "</table>\n",
       "</div>"
      ],
      "text/plain": [
       "             Rooms     Distance  BuildingArea          Car\n",
       "count  6196.000000  6196.000000   6196.000000  6196.000000\n",
       "mean      2.931407     9.751097    141.568645     1.573596\n",
       "std       0.971079     5.612065     90.834824     0.929947\n",
       "min       1.000000     0.000000      0.000000     0.000000\n",
       "25%       2.000000     5.900000     91.000000     1.000000\n",
       "50%       3.000000     9.000000    124.000000     1.000000\n",
       "75%       4.000000    12.400000    170.000000     2.000000\n",
       "max       8.000000    47.400000   3112.000000    10.000000"
      ]
     },
     "execution_count": 3,
     "metadata": {},
     "output_type": "execute_result"
    }
   ],
   "source": [
    "# tartget prediction:\n",
    "y = realty_data.Price\n",
    "# features:\n",
    "realty_data_features = ['Rooms', 'Distance', 'BuildingArea', 'Car']\n",
    "X = realty_data[realty_data_features]\n",
    "X.describe()"
   ]
  },
  {
   "cell_type": "code",
   "execution_count": 4,
   "metadata": {},
   "outputs": [
    {
     "data": {
      "text/html": [
       "<div>\n",
       "<style scoped>\n",
       "    .dataframe tbody tr th:only-of-type {\n",
       "        vertical-align: middle;\n",
       "    }\n",
       "\n",
       "    .dataframe tbody tr th {\n",
       "        vertical-align: top;\n",
       "    }\n",
       "\n",
       "    .dataframe thead th {\n",
       "        text-align: right;\n",
       "    }\n",
       "</style>\n",
       "<table border=\"1\" class=\"dataframe\">\n",
       "  <thead>\n",
       "    <tr style=\"text-align: right;\">\n",
       "      <th></th>\n",
       "      <th>Rooms</th>\n",
       "      <th>Distance</th>\n",
       "      <th>BuildingArea</th>\n",
       "      <th>Car</th>\n",
       "    </tr>\n",
       "  </thead>\n",
       "  <tbody>\n",
       "    <tr>\n",
       "      <th>1</th>\n",
       "      <td>2</td>\n",
       "      <td>2.5</td>\n",
       "      <td>79.0</td>\n",
       "      <td>0.0</td>\n",
       "    </tr>\n",
       "    <tr>\n",
       "      <th>2</th>\n",
       "      <td>3</td>\n",
       "      <td>2.5</td>\n",
       "      <td>150.0</td>\n",
       "      <td>0.0</td>\n",
       "    </tr>\n",
       "    <tr>\n",
       "      <th>4</th>\n",
       "      <td>4</td>\n",
       "      <td>2.5</td>\n",
       "      <td>142.0</td>\n",
       "      <td>2.0</td>\n",
       "    </tr>\n",
       "    <tr>\n",
       "      <th>6</th>\n",
       "      <td>3</td>\n",
       "      <td>2.5</td>\n",
       "      <td>210.0</td>\n",
       "      <td>0.0</td>\n",
       "    </tr>\n",
       "    <tr>\n",
       "      <th>7</th>\n",
       "      <td>2</td>\n",
       "      <td>2.5</td>\n",
       "      <td>107.0</td>\n",
       "      <td>2.0</td>\n",
       "    </tr>\n",
       "  </tbody>\n",
       "</table>\n",
       "</div>"
      ],
      "text/plain": [
       "   Rooms  Distance  BuildingArea  Car\n",
       "1      2       2.5          79.0  0.0\n",
       "2      3       2.5         150.0  0.0\n",
       "4      4       2.5         142.0  2.0\n",
       "6      3       2.5         210.0  0.0\n",
       "7      2       2.5         107.0  2.0"
      ]
     },
     "execution_count": 4,
     "metadata": {},
     "output_type": "execute_result"
    }
   ],
   "source": [
    "# looking at the top 5 values\n",
    "X.head()"
   ]
  },
  {
   "cell_type": "markdown",
   "metadata": {},
   "source": [
    "### Building the Decision Tree Regression model using SciKit Learn"
   ]
  },
  {
   "cell_type": "markdown",
   "metadata": {},
   "source": [
    "Define: I will be using a Regression Supervised learning algorithm from SciKit Learn that will make a decision tree that I can use to predict the cost of a house."
   ]
  },
  {
   "cell_type": "code",
   "execution_count": 5,
   "metadata": {},
   "outputs": [
    {
     "data": {
      "text/plain": [
       "DecisionTreeRegressor(random_state=1)"
      ]
     },
     "execution_count": 5,
     "metadata": {},
     "output_type": "execute_result"
    }
   ],
   "source": [
    "from sklearn.model_selection import cross_val_score\n",
    "from sklearn.tree import DecisionTreeRegressor\n",
    "\n",
    "# define model\n",
    "realty_price_model = DecisionTreeRegressor(random_state=1)\n",
    "# fit the model\n",
    "realty_price_model.fit(X, y)"
   ]
  },
  {
   "cell_type": "markdown",
   "metadata": {},
   "source": [
    "Now we will predict some values:"
   ]
  },
  {
   "cell_type": "code",
   "execution_count": 6,
   "metadata": {},
   "outputs": [
    {
     "name": "stdout",
     "output_type": "stream",
     "text": [
      "values are:     Rooms  Distance  BuildingArea  Car\n",
      "1      2       2.5          79.0  0.0\n",
      "2      3       2.5         150.0  0.0\n",
      "4      4       2.5         142.0  2.0\n",
      "6      3       2.5         210.0  0.0\n",
      "7      2       2.5         107.0  2.0\n",
      "prediction is  [1035000. 1465000. 1600000. 1876000. 1636000.]\n"
     ]
    }
   ],
   "source": [
    "predict_vals = X.head()\n",
    "\n",
    "prediction = realty_price_model.predict(predict_vals)\n",
    "\n",
    "print('values are: ', predict_vals)\n",
    "print('prediction is ', prediction)"
   ]
  },
  {
   "cell_type": "markdown",
   "metadata": {},
   "source": [
    "As you can see the prediction works but this is with the same data it trained with so we need to test it with test data to see if it really works."
   ]
  },
  {
   "cell_type": "markdown",
   "metadata": {},
   "source": [
    "## Testing with test data: Attempt 1"
   ]
  },
  {
   "cell_type": "code",
   "execution_count": 7,
   "metadata": {},
   "outputs": [
    {
     "name": "stdout",
     "output_type": "stream",
     "text": [
      "359105.0942543576\n"
     ]
    }
   ],
   "source": [
    "from sklearn.model_selection import train_test_split\n",
    "from sklearn.metrics import mean_absolute_error\n",
    "# split data randomly into two sets\n",
    "train_X, val_X, train_y, val_y = train_test_split(X, y, random_state = 0)\n",
    "# define model\n",
    "realty_price_model_testing = DecisionTreeRegressor()\n",
    "# fit model\n",
    "realty_price_model_testing.fit(train_X, train_y)\n",
    "\n",
    "# now we are predicting on foriegn data to see if it really works\n",
    "val_predictions = realty_price_model_testing.predict(val_X)\n",
    "print(mean_absolute_error(val_y, val_predictions))\n"
   ]
  },
  {
   "cell_type": "markdown",
   "metadata": {},
   "source": [
    "### It was off! "
   ]
  },
  {
   "cell_type": "markdown",
   "metadata": {},
   "source": [
    "It was off by alot! the mean value error is around 300,000 so there is something we need to fix.\n",
    "\n",
    "I am going to try converting string categorical data to integers so that it can be used to train the data, then we hopefully will have a better prediction."
   ]
  },
  {
   "cell_type": "markdown",
   "metadata": {},
   "source": [
    "#### Converting categorical data to integers using get_dummies()"
   ]
  },
  {
   "cell_type": "markdown",
   "metadata": {},
   "source": [
    "Indexes in the values are:\n",
    "\n",
    "['Suburb', 'Address', 'Rooms', 'Type', 'Price', 'Method', 'SellerG',\n",
    "       'Date', 'Distance', 'Postcode', 'Bedroom2', 'Bathroom', 'Car',\n",
    "       'Landsize', 'BuildingArea', 'YearBuilt', 'CouncilArea', 'Lattitude',\n",
    "       'Longtitude', 'Regionname', 'Propertycount']\n",
    "       "
   ]
  },
  {
   "cell_type": "markdown",
   "metadata": {},
   "source": [
    "old features are: realty_data_features = ['Rooms', 'Distance', 'BuildingArea', 'Car']\n",
    "\n",
    "ADD Bedroom2, Bathroom to the feature list!!!! fixme \n",
    "\n",
    "I want to change to dummy variables: 'Type', 'Method' "
   ]
  },
  {
   "cell_type": "code",
   "execution_count": 8,
   "metadata": {},
   "outputs": [
    {
     "name": "stdout",
     "output_type": "stream",
     "text": [
      "       Suburb          Address  Rooms Type      Price Method SellerG  \\\n",
      "1  Abbotsford  25 Bloomburg St      2    h  1035000.0      S  Biggin   \n",
      "2  Abbotsford     5 Charles St      3    h  1465000.0     SP  Biggin   \n",
      "4  Abbotsford      55a Park St      4    h  1600000.0     VB  Nelson   \n",
      "6  Abbotsford     124 Yarra St      3    h  1876000.0      S  Nelson   \n",
      "7  Abbotsford    98 Charles St      2    h  1636000.0      S  Nelson   \n",
      "\n",
      "        Date  Distance  Postcode  ...  BuildingArea  YearBuilt  CouncilArea  \\\n",
      "1  4/02/2016       2.5    3067.0  ...          79.0     1900.0        Yarra   \n",
      "2  4/03/2017       2.5    3067.0  ...         150.0     1900.0        Yarra   \n",
      "4  4/06/2016       2.5    3067.0  ...         142.0     2014.0        Yarra   \n",
      "6  7/05/2016       2.5    3067.0  ...         210.0     1910.0        Yarra   \n",
      "7  8/10/2016       2.5    3067.0  ...         107.0     1890.0        Yarra   \n",
      "\n",
      "   Lattitude  Longtitude             Regionname Propertycount  type_h  type_t  \\\n",
      "1   -37.8079    144.9934  Northern Metropolitan        4019.0       1       0   \n",
      "2   -37.8093    144.9944  Northern Metropolitan        4019.0       1       0   \n",
      "4   -37.8072    144.9941  Northern Metropolitan        4019.0       1       0   \n",
      "6   -37.8024    144.9993  Northern Metropolitan        4019.0       1       0   \n",
      "7   -37.8060    144.9954  Northern Metropolitan        4019.0       1       0   \n",
      "\n",
      "  type_u  \n",
      "1      0  \n",
      "2      0  \n",
      "4      0  \n",
      "6      0  \n",
      "7      0  \n",
      "\n",
      "[5 rows x 24 columns]\n"
     ]
    }
   ],
   "source": [
    "# converting columns to dummies\n",
    "type_dummy = pd.get_dummies(realty_data.Type, columns=['Type'], prefix='type')\n",
    "# method_dummy = pd.get_dummies(realty_data.Method, columns=['Method'], prefix='method')\n",
    "# region_name_dummy = pd.get_dummies(realty_data.Regionname, columns=['Regionname'], prefix='regionname')\n",
    "\n",
    "# print(type_dummy)\n",
    "# print(method_dummy)\n",
    "# print(region_name_dummy)\n",
    "\n",
    "# assigning new values\n",
    "realty_data = pd.concat([realty_data, type_dummy], axis = 1)\n",
    "print(realty_data.head())\n",
    "\n",
    "\n",
    "# columns_to_add = ['regionname_Eastern Metropolitan',  'regionname_Eastern Victoria', 'regionname_Northern Metropolitan',  \n",
    "#  'regionname_Northern Victoria',  'regionname_South-Eastern Metropolitan', 'regionname_Southern Metropolitan',  \n",
    "#  'regionname_Western Metropolitan','regionname_Western Victoria']\n",
    "\n",
    "\n",
    "\n",
    "\n",
    "\n",
    "\n",
    "\n"
   ]
  },
  {
   "cell_type": "markdown",
   "metadata": {},
   "source": [
    "### Now lets remove outliers"
   ]
  },
  {
   "cell_type": "code",
   "execution_count": 9,
   "metadata": {},
   "outputs": [],
   "source": [
    "import matplotlib.pyplot\n",
    "import seaborn as sns"
   ]
  },
  {
   "cell_type": "code",
   "execution_count": 10,
   "metadata": {
    "scrolled": true
   },
   "outputs": [
    {
     "data": {
      "text/plain": [
       "<AxesSubplot:xlabel='Price'>"
      ]
     },
     "execution_count": 10,
     "metadata": {},
     "output_type": "execute_result"
    },
    {
     "data": {
      "image/png": "[encoded data removed]",
      "text/plain": [
       "<Figure size 720x1152 with 1 Axes>"
      ]
     },
     "metadata": {
      "needs_background": "light"
     },
     "output_type": "display_data"
    }
   ],
   "source": [
    "plt.figure(figsize=(10,16))\n",
    "sns.boxplot(data=realty_data, x='Price')\n",
    "# here we can see there are alot of outlires"
   ]
  },
  {
   "cell_type": "code",
   "execution_count": 11,
   "metadata": {
    "scrolled": true
   },
   "outputs": [
    {
     "data": {
      "text/plain": [
       "<AxesSubplot:xlabel='Price'>"
      ]
     },
     "execution_count": 11,
     "metadata": {},
     "output_type": "execute_result"
    },
    {
     "data": {
      "image/png": "[encoded data removed]",
      "text/plain": [
       "<Figure size 432x288 with 1 Axes>"
      ]
     },
     "metadata": {
      "needs_background": "light"
     },
     "output_type": "display_data"
    }
   ],
   "source": [
    "# now to remove them, anything over 3 standard deviations is considered an outlier\n",
    "realty_data = realty_data[realty_data['Price']<realty_data['Price'].std()*3]\n",
    "sns.boxplot(data=realty_data, x='Price')"
   ]
  },
  {
   "cell_type": "markdown",
   "metadata": {},
   "source": [
    "It worked! Outlires are gone!"
   ]
  },
  {
   "cell_type": "markdown",
   "metadata": {},
   "source": [
    "## Now lets update Features now that we have dummy rows"
   ]
  },
  {
   "cell_type": "markdown",
   "metadata": {},
   "source": [
    "['Suburb', 'Address', 'Rooms', 'Type', 'Price', 'Method', 'SellerG', 'Date', 'Distance', 'Postcode', 'Bedroom2', 'Bathroom', 'Car', 'Landsize', 'BuildingArea', 'YearBuilt', 'CouncilArea', 'Lattitude', 'Longtitude', 'Regionname', 'Propertycount']\n",
    "\n",
    "old features are: realty_data_features = ['Rooms', 'Distance', 'BuildingArea', 'Car']\n",
    "\n",
    "ADD Bedroom2, Bathroom to the feature list!!!! fixme\n",
    "\n",
    "I want to change to dummy variables: 'Type', 'Method'"
   ]
  },
  {
   "cell_type": "code",
   "execution_count": 12,
   "metadata": {},
   "outputs": [
    {
     "name": "stdout",
     "output_type": "stream",
     "text": [
      "172763.45104895104\n"
     ]
    }
   ],
   "source": [
    "realty_data_features_2 = ['Rooms', 'Distance', 'BuildingArea', \n",
    "                          'Bedroom2', 'Bathroom', 'Landsize', \n",
    "                         'Lattitude', 'Longtitude', 'type_h', \n",
    "                          'type_t', 'type_u' ]\n",
    "\n",
    "\n",
    "# tartget prediction:\n",
    "y = realty_data.Price\n",
    "\n",
    "X = realty_data[realty_data_features_2]\n",
    "\n",
    "# make model and test set\n",
    "\n",
    "# split data randomly into two sets\n",
    "train_X, val_X, train_y, val_y = train_test_split(X, y, random_state = 0)\n",
    "# define model\n",
    "realty_price_model_testing = DecisionTreeRegressor()\n",
    "# fit model\n",
    "realty_price_model_testing.fit(train_X, train_y)\n",
    "\n",
    "# now we are predicting on foriegn data to see if it really works\n",
    "val_predictions = realty_price_model_testing.predict(val_X)\n",
    "print(mean_absolute_error(val_y, val_predictions))\n"
   ]
  },
  {
   "cell_type": "markdown",
   "metadata": {},
   "source": [
    "# We reduced the inaccuracy from 362,839 to 117,402!!!"
   ]
  },
  {
   "cell_type": "markdown",
   "metadata": {},
   "source": [
    "This is big headway. I did this by removing outlires, creating binary indexes for catagories, and changing the features. \n",
    "\n",
    "Now im going to try a different model using the Random Forest Regressor and see if that can improve the accuracy."
   ]
  },
  {
   "cell_type": "markdown",
   "metadata": {},
   "source": [
    "## Trying Random Forest Regressor"
   ]
  },
  {
   "cell_type": "code",
   "execution_count": 22,
   "metadata": {},
   "outputs": [
    {
     "name": "stdout",
     "output_type": "stream",
     "text": [
      "127118.01782883782\n",
      "0.8229423459917677\n"
     ]
    },
    {
     "ename": "AttributeError",
     "evalue": "'DataFrame' object has no attribute 'type'",
     "output_type": "error",
     "traceback": [
      "\u001b[0;31m---------------------------------------------------------------------------\u001b[0m",
      "\u001b[0;31mAttributeError\u001b[0m                            Traceback (most recent call last)",
      "\u001b[0;32m<ipython-input-22-d2bed4d21943>\u001b[0m in \u001b[0;36m<module>\u001b[0;34m\u001b[0m\n\u001b[1;32m     14\u001b[0m \u001b[0mprint\u001b[0m\u001b[0;34m(\u001b[0m\u001b[0mmean_absolute_error\u001b[0m\u001b[0;34m(\u001b[0m\u001b[0mval_y\u001b[0m\u001b[0;34m,\u001b[0m \u001b[0mval_predictions\u001b[0m\u001b[0;34m)\u001b[0m\u001b[0;34m)\u001b[0m\u001b[0;34m\u001b[0m\u001b[0;34m\u001b[0m\u001b[0m\n\u001b[1;32m     15\u001b[0m \u001b[0mprint\u001b[0m\u001b[0;34m(\u001b[0m\u001b[0mexplained_variance_score\u001b[0m\u001b[0;34m(\u001b[0m\u001b[0mval_y\u001b[0m\u001b[0;34m,\u001b[0m \u001b[0mval_predictions\u001b[0m\u001b[0;34m,\u001b[0m \u001b[0mmultioutput\u001b[0m\u001b[0;34m=\u001b[0m\u001b[0;34m'uniform_average'\u001b[0m\u001b[0;34m)\u001b[0m\u001b[0;34m)\u001b[0m\u001b[0;34m\u001b[0m\u001b[0;34m\u001b[0m\u001b[0m\n\u001b[0;32m---> 16\u001b[0;31m \u001b[0mprint\u001b[0m\u001b[0;34m(\u001b[0m\u001b[0;34m'\\n prediction values: '\u001b[0m\u001b[0;34m,\u001b[0m \u001b[0mrealty_data\u001b[0m\u001b[0;34m.\u001b[0m\u001b[0mhead\u001b[0m\u001b[0;34m(\u001b[0m\u001b[0;34m)\u001b[0m\u001b[0;34m.\u001b[0m\u001b[0mtype\u001b[0m\u001b[0;34m(\u001b[0m\u001b[0;34m)\u001b[0m\u001b[0;34m)\u001b[0m\u001b[0;34m\u001b[0m\u001b[0;34m\u001b[0m\u001b[0m\n\u001b[0m",
      "\u001b[0;32m~/opt/anaconda3/lib/python3.8/site-packages/pandas/core/generic.py\u001b[0m in \u001b[0;36m__getattr__\u001b[0;34m(self, name)\u001b[0m\n\u001b[1;32m   5137\u001b[0m             \u001b[0;32mif\u001b[0m \u001b[0mself\u001b[0m\u001b[0;34m.\u001b[0m\u001b[0m_info_axis\u001b[0m\u001b[0;34m.\u001b[0m\u001b[0m_can_hold_identifiers_and_holds_name\u001b[0m\u001b[0;34m(\u001b[0m\u001b[0mname\u001b[0m\u001b[0;34m)\u001b[0m\u001b[0;34m:\u001b[0m\u001b[0;34m\u001b[0m\u001b[0;34m\u001b[0m\u001b[0m\n\u001b[1;32m   5138\u001b[0m                 \u001b[0;32mreturn\u001b[0m \u001b[0mself\u001b[0m\u001b[0;34m[\u001b[0m\u001b[0mname\u001b[0m\u001b[0;34m]\u001b[0m\u001b[0;34m\u001b[0m\u001b[0;34m\u001b[0m\u001b[0m\n\u001b[0;32m-> 5139\u001b[0;31m             \u001b[0;32mreturn\u001b[0m \u001b[0mobject\u001b[0m\u001b[0;34m.\u001b[0m\u001b[0m__getattribute__\u001b[0m\u001b[0;34m(\u001b[0m\u001b[0mself\u001b[0m\u001b[0;34m,\u001b[0m \u001b[0mname\u001b[0m\u001b[0;34m)\u001b[0m\u001b[0;34m\u001b[0m\u001b[0;34m\u001b[0m\u001b[0m\n\u001b[0m\u001b[1;32m   5140\u001b[0m \u001b[0;34m\u001b[0m\u001b[0m\n\u001b[1;32m   5141\u001b[0m     \u001b[0;32mdef\u001b[0m \u001b[0m__setattr__\u001b[0m\u001b[0;34m(\u001b[0m\u001b[0mself\u001b[0m\u001b[0;34m,\u001b[0m \u001b[0mname\u001b[0m\u001b[0;34m:\u001b[0m \u001b[0mstr\u001b[0m\u001b[0;34m,\u001b[0m \u001b[0mvalue\u001b[0m\u001b[0;34m)\u001b[0m \u001b[0;34m->\u001b[0m \u001b[0;32mNone\u001b[0m\u001b[0;34m:\u001b[0m\u001b[0;34m\u001b[0m\u001b[0;34m\u001b[0m\u001b[0m\n",
      "\u001b[0;31mAttributeError\u001b[0m: 'DataFrame' object has no attribute 'type'"
     ]
    }
   ],
   "source": [
    "from sklearn.ensemble import RandomForestRegressor\n",
    "from sklearn.metrics import explained_variance_score\n",
    "\n",
    "# split data randomly into two sets\n",
    "\n",
    "train_X, val_X, train_y, val_y = train_test_split(X, y, random_state = 0)\n",
    "# define model\n",
    "realty_price_model_testing = RandomForestRegressor()\n",
    "# fit model\n",
    "realty_price_model_testing.fit(train_X, train_y)\n",
    "\n",
    "# now we are predicting on foriegn data to see if it really works\n",
    "val_predictions = realty_price_model_testing.predict(val_X)\n",
    "print(mean_absolute_error(val_y, val_predictions))\n",
    "print(explained_variance_score(val_y, val_predictions, multioutput='uniform_average'))\n",
    "print('\\n prediction values: ', realty_data.head())"
   ]
  },
  {
   "cell_type": "markdown",
   "metadata": {},
   "source": [
    "### WOW! "
   ]
  },
  {
   "cell_type": "markdown",
   "metadata": {},
   "source": [
    "#### We reduced the inaccuracy from 117,402 to 88,374!!!"
   ]
  },
  {
   "cell_type": "markdown",
   "metadata": {},
   "source": [
    "## Model fits accuracy measure"
   ]
  },
  {
   "cell_type": "markdown",
   "metadata": {},
   "source": [
    "The explained variance score of this model is .76. This is very accurate and probably beats my goal of 75% accuracy. Now I can start coding the website."
   ]
  },
  {
   "cell_type": "markdown",
   "metadata": {},
   "source": [
    "# Now we need to make Exportable values for the website"
   ]
  },
  {
   "cell_type": "code",
   "execution_count": 14,
   "metadata": {},
   "outputs": [
    {
     "data": {
      "text/plain": [
       "Index(['Suburb', 'Address', 'Rooms', 'Type', 'Price', 'Method', 'SellerG',\n",
       "       'Date', 'Distance', 'Postcode', 'Bedroom2', 'Bathroom', 'Car',\n",
       "       'Landsize', 'BuildingArea', 'YearBuilt', 'CouncilArea', 'Lattitude',\n",
       "       'Longtitude', 'Regionname', 'Propertycount', 'type_h', 'type_t',\n",
       "       'type_u'],\n",
       "      dtype='object')"
      ]
     },
     "execution_count": 14,
     "metadata": {},
     "output_type": "execute_result"
    }
   ],
   "source": [
    "realty_data.columns"
   ]
  },
  {
   "cell_type": "code",
   "execution_count": 15,
   "metadata": {},
   "outputs": [
    {
     "name": "stdout",
     "output_type": "stream",
     "text": [
      "       Suburb          Address  Rooms Type      Price Method SellerG  \\\n",
      "1  Abbotsford  25 Bloomburg St      2    h  1035000.0      S  Biggin   \n",
      "2  Abbotsford     5 Charles St      3    h  1465000.0     SP  Biggin   \n",
      "4  Abbotsford      55a Park St      4    h  1600000.0     VB  Nelson   \n",
      "6  Abbotsford     124 Yarra St      3    h  1876000.0      S  Nelson   \n",
      "7  Abbotsford    98 Charles St      2    h  1636000.0      S  Nelson   \n",
      "\n",
      "        Date  Distance  Postcode  ...  BuildingArea  YearBuilt  CouncilArea  \\\n",
      "1  4/02/2016       2.5    3067.0  ...          79.0     1900.0        Yarra   \n",
      "2  4/03/2017       2.5    3067.0  ...         150.0     1900.0        Yarra   \n",
      "4  4/06/2016       2.5    3067.0  ...         142.0     2014.0        Yarra   \n",
      "6  7/05/2016       2.5    3067.0  ...         210.0     1910.0        Yarra   \n",
      "7  8/10/2016       2.5    3067.0  ...         107.0     1890.0        Yarra   \n",
      "\n",
      "   Lattitude  Longtitude             Regionname Propertycount  type_h  type_t  \\\n",
      "1   -37.8079    144.9934  Northern Metropolitan        4019.0       1       0   \n",
      "2   -37.8093    144.9944  Northern Metropolitan        4019.0       1       0   \n",
      "4   -37.8072    144.9941  Northern Metropolitan        4019.0       1       0   \n",
      "6   -37.8024    144.9993  Northern Metropolitan        4019.0       1       0   \n",
      "7   -37.8060    144.9954  Northern Metropolitan        4019.0       1       0   \n",
      "\n",
      "  type_u  \n",
      "1      0  \n",
      "2      0  \n",
      "4      0  \n",
      "6      0  \n",
      "7      0  \n",
      "\n",
      "[5 rows x 24 columns]\n"
     ]
    }
   ],
   "source": [
    "# The new datafile without outliers:\n",
    "\n",
    "# The features\n",
    "realty_data_features_2 = ['Rooms', 'Distance', 'BuildingArea',\n",
    "                          'Bedroom2', 'Landsize', \n",
    "                         'Lattitude', 'Longtitude', 'type_h',\n",
    "                          'type_t', 'type_u', 'method_PI', 'method_S',\n",
    "                          'method_SA', 'method_SP', 'method_VB']\n",
    "\n",
    "\n",
    "print(realty_data.head())\n",
    "\n",
    "\n"
   ]
  },
  {
   "cell_type": "code",
   "execution_count": null,
   "metadata": {},
   "outputs": [],
   "source": []
  }
 ],
 "metadata": {
  "kernelspec": {
   "display_name": "Python 3",
   "language": "python",
   "name": "python3"
  },
  "language_info": {
   "codemirror_mode": {
    "name": "ipython",
    "version": 3
   },
   "file_extension": ".py",
   "mimetype": "text/x-python",
   "name": "python",
   "nbconvert_exporter": "python",
   "pygments_lexer": "ipython3",
   "version": "3.8.5"
  }
 },
 "nbformat": 4,
 "nbformat_minor": 4
}
